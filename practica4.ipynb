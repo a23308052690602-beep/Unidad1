{
  "nbformat": 4,
  "nbformat_minor": 0,
  "metadata": {
    "colab": {
      "provenance": [],
      "authorship_tag": "ABX9TyOndqR05MeU1CrypvTpwd7y",
      "include_colab_link": true
    },
    "kernelspec": {
      "name": "python3",
      "display_name": "Python 3"
    },
    "language_info": {
      "name": "python"
    }
  },
  "cells": [
    {
      "cell_type": "markdown",
      "metadata": {
        "id": "view-in-github",
        "colab_type": "text"
      },
      "source": [
        "<a href=\"https://colab.research.google.com/github/a23308052690602-beep/Unidad1/blob/main/practica4.ipynb\" target=\"_parent\"><img src=\"https://colab.research.google.com/assets/colab-badge.svg\" alt=\"Open In Colab\"/></a>"
      ]
    },
    {
      "cell_type": "markdown",
      "source": [
        "Numpy indexacion de matrices. acceder a elementos de una matriz. la indexaccion de matrices es lo mismo que acceder a un elemento de una matriz. puede acceder a un elemento de una matriz haciendo referencia a su numero de indice. los indices es las matrices Numpy comienza en cero, lo que significa que el primer elemento tiene indice de cero, el segundo tiene incice uno, y el tercero tiene indice dos, etc.\n",
        "\n",
        "Ejemplo:obtenga el primer elemento de la siguiente matriz."
      ],
      "metadata": {
        "id": "6ATlrNgWPVXn"
      }
    },
    {
      "cell_type": "code",
      "source": [
        "import numpy as np\n",
        "arreglo =np.array([1,2,3,4,5])\n",
        "print(arreglo[0])"
      ],
      "metadata": {
        "colab": {
          "base_uri": "https://localhost:8080/"
        },
        "id": "4IGU9fYjQvE3",
        "outputId": "521c85d1-5219-462f-a490-b78016cf0892"
      },
      "execution_count": 1,
      "outputs": [
        {
          "output_type": "stream",
          "name": "stdout",
          "text": [
            "1\n"
          ]
        }
      ]
    },
    {
      "cell_type": "markdown",
      "source": [
        "de la siguiente lista. 6,7,8,9,10, obtenga el tercero y cuarto elemento."
      ],
      "metadata": {
        "id": "LPc234X7RFgv"
      }
    },
    {
      "cell_type": "code",
      "source": [
        "import numpy as np\n",
        "arreglo=np.array([6,7,8,9,10])\n",
        "print(arreglo[2])\n",
        "print(arreglo[3])"
      ],
      "metadata": {
        "colab": {
          "base_uri": "https://localhost:8080/"
        },
        "id": "Ghl3cMniRP2X",
        "outputId": "9bb9e97f-7e9f-4a42-d262-522b142f7d5b"
      },
      "execution_count": 2,
      "outputs": [
        {
          "output_type": "stream",
          "name": "stdout",
          "text": [
            "8\n",
            "9\n"
          ]
        }
      ]
    },
    {
      "cell_type": "markdown",
      "source": [
        "acceder a matrices dosD, para acceder a elementos de matrices de dos D podemos utiluzar numeros enteros separados por comas que representan al numero de Dimensiones y al indice del elemento.\n",
        "\n",
        "Realizar una matriz 2D con las siguientes listas.\n",
        "\n",
        "lista1=1,2,3,4,5\n",
        "\n",
        "lista2=6,7,8,9,10\n",
        "\n",
        "\n",
        "de la matriz dos D. accede al elemento de la primera fila segunda columna."
      ],
      "metadata": {
        "id": "m1JiouCzRhmn"
      }
    },
    {
      "cell_type": "code",
      "source": [
        "import numpy as np\n",
        "arreglo=np.array([[1,2,3,4,5],[6,7,8,9,10]])\n",
        "print(arreglo[0,1])"
      ],
      "metadata": {
        "colab": {
          "base_uri": "https://localhost:8080/"
        },
        "collapsed": true,
        "id": "_E-C_DW4SWBo",
        "outputId": "565a24c9-afe3-47d2-d8c7-607ca4026831"
      },
      "execution_count": 8,
      "outputs": [
        {
          "output_type": "stream",
          "name": "stdout",
          "text": [
            "2\n"
          ]
        }
      ]
    }
  ]
}