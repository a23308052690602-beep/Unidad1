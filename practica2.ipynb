{
  "nbformat": 4,
  "nbformat_minor": 0,
  "metadata": {
    "colab": {
      "provenance": [],
      "authorship_tag": "ABX9TyMMMFah4OxF196W/UNRRSns",
      "include_colab_link": true
    },
    "kernelspec": {
      "name": "python3",
      "display_name": "Python 3"
    },
    "language_info": {
      "name": "python"
    }
  },
  "cells": [
    {
      "cell_type": "markdown",
      "metadata": {
        "id": "view-in-github",
        "colab_type": "text"
      },
      "source": [
        "<a href=\"https://colab.research.google.com/github/a23308052690602-beep/Unidad1/blob/main/practica2.ipynb\" target=\"_parent\"><img src=\"https://colab.research.google.com/assets/colab-badge.svg\" alt=\"Open In Colab\"/></a>"
      ]
    },
    {
      "cell_type": "markdown",
      "source": [
        "practica 2- numpy ana evelyn gonzalez velazquez 5f fecha 09 de septiembre del 2025\n",
        "\n",
        "---\n",
        "\n",
        "como verificar el numero de dimensiones. numpy proporciona el atributo ndim que devuelve un numero entero que nos dice cuantas dimensiones tiene una matriz.\n",
        "-------\n",
        "ejemplo:comprueba de cuantas dimensiones son las siguientes matrices."
      ],
      "metadata": {
        "id": "lAIl8IcBsIG3"
      }
    },
    {
      "cell_type": "code",
      "source": [
        "import numpy as np\n",
        "\n",
        "arregloA=np.array(42)\n",
        "arregloB=np.array([1,2,3,4,5])\n",
        "arregloC=np.array([[1,2,3], [1,2,3]])\n",
        "arregloD=np.array([[[1,2,3],[4,5,6]], [[1,2,3],[4,5,6]]])\n",
        "\n",
        "print(arregloA.ndim)\n",
        "print(arregloB.ndim)\n",
        "print(arregloC.ndim)\n",
        "print(arregloD.ndim)"
      ],
      "metadata": {
        "colab": {
          "base_uri": "https://localhost:8080/"
        },
        "id": "Md1woq-as7jQ",
        "outputId": "033aeb5d-7c87-4859-c7a3-c0d476ef130c"
      },
      "execution_count": null,
      "outputs": [
        {
          "output_type": "stream",
          "name": "stdout",
          "text": [
            "0\n",
            "1\n",
            "2\n",
            "3\n"
          ]
        }
      ]
    },
    {
      "cell_type": "markdown",
      "source": [
        "matrices de dimensiones superiores. una matriz puede tener cuarquier numero de dimensiones. cuando se crea la matriz, puede definir el numero de dimensiones utilizando el argumento ndmin.\n",
        "\n",
        "ejemplo: crea una matriz con 5 dimensiones y verifica que tenga las 5 dimensiones.\n",
        "\n",
        "------------\n",
        "\n"
      ],
      "metadata": {
        "id": "IM7LzO6Cu9xT"
      }
    },
    {
      "cell_type": "code",
      "source": [
        "import numpy as np\n",
        "\n",
        "arreglo=np.array([1,2,3,4], ndmin=5)\n",
        "\n",
        "print(arreglo)\n",
        "\n",
        "print(\"numero de dimensiones:\", arreglo.ndim)\n"
      ],
      "metadata": {
        "colab": {
          "base_uri": "https://localhost:8080/"
        },
        "id": "u7RnZirawJC2",
        "outputId": "592975d8-ce4d-4892-eeb7-b646320599bb"
      },
      "execution_count": null,
      "outputs": [
        {
          "output_type": "stream",
          "name": "stdout",
          "text": [
            "[[[[[1 2 3 4]]]]]\n",
            "numero de dimensiones: 5\n"
          ]
        }
      ]
    },
    {
      "cell_type": "markdown",
      "source": [
        "ejercio: considerando la siguiente matriz  \n",
        "\n",
        "arreglo=np.array([[1,2,3],[4,5,6]])\n",
        "\n",
        "¿cuantas dimensiones tiene?\n",
        "respuesta=2"
      ],
      "metadata": {
        "id": "QxFDt8ocyjOX"
      }
    },
    {
      "cell_type": "markdown",
      "source": [
        "numpy idexacion de matrices\n",
        "acceder a elementos de una matriz\n",
        "la indexacion de matrices es lo mismo que acceder a un elemento de una matriz. puede acceder a un elemento de la matriz haciendo referencia a su numero indice. los indices en las matrices numpy comienzan en 0, lo que significa que el primer elemento tiene el indice 0 y el segundo tiene el indice 1, etc.\n",
        "\n",
        "ejemplo:obtenga el primer elemento de la siguiente matriz.\n",
        "\n",
        " ----------"
      ],
      "metadata": {
        "id": "SVImSjnzzv8Y"
      }
    },
    {
      "cell_type": "code",
      "source": [
        "import numpy as np\n",
        "\n",
        "arreglo=np.array([1,2,3,4])\n",
        "\n",
        "print(arreglo[0])"
      ],
      "metadata": {
        "colab": {
          "base_uri": "https://localhost:8080/"
        },
        "id": "6FEeGT521H7x",
        "outputId": "494dc169-c018-4ba4-cba5-10dce0c666a9"
      },
      "execution_count": null,
      "outputs": [
        {
          "output_type": "stream",
          "name": "stdout",
          "text": [
            "1\n"
          ]
        }
      ]
    }
  ]
}