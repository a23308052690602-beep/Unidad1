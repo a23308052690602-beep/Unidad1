{
  "nbformat": 4,
  "nbformat_minor": 0,
  "metadata": {
    "colab": {
      "provenance": [],
      "authorship_tag": "ABX9TyNEykE16PxrwiSxeJLTV8eC",
      "include_colab_link": true
    },
    "kernelspec": {
      "name": "python3",
      "display_name": "Python 3"
    },
    "language_info": {
      "name": "python"
    }
  },
  "cells": [
    {
      "cell_type": "markdown",
      "metadata": {
        "id": "view-in-github",
        "colab_type": "text"
      },
      "source": [
        "<a href=\"https://colab.research.google.com/github/a23308052690602-beep/Unidad1/blob/main/numpy.ipynb\" target=\"_parent\"><img src=\"https://colab.research.google.com/assets/colab-badge.svg\" alt=\"Open In Colab\"/></a>"
      ]
    },
    {
      "cell_type": "code",
      "execution_count": 4,
      "metadata": {
        "id": "gHei57r_iQre"
      },
      "outputs": [],
      "source": []
    },
    {
      "cell_type": "markdown",
      "source": [
        "numpy es una libreria de python.\n",
        "numpy se utiliza para trabajar con matrices o arreglos.\n",
        "numpy es la abreviatura de \"python numerico\".\n",
        "tambien tiene funciones para trabajar en el dominio del algebra lineal, la transformada y las matrices\n",
        "en python tenemos listas que sirven como matrices pero son lentas de procesar. numpy tiene como objetivo proporcionar un objeto de matriz que sea 50 veces mas rapido que las listas tradicionales."
      ],
      "metadata": {
        "id": "twPzMzfZi0LM"
      }
    },
    {
      "cell_type": "code",
      "source": [
        "#primero tenemos que importar la libreria\n",
        "import numpy\n",
        "\n",
        "arreglo=numpy.array([1,2,3,4,5])\n",
        "print(arreglo)"
      ],
      "metadata": {
        "colab": {
          "base_uri": "https://localhost:8080/"
        },
        "id": "pefr0TdnlGrg",
        "outputId": "4272e05b-0227-4ef4-eb15-d567d6d09f05"
      },
      "execution_count": 1,
      "outputs": [
        {
          "output_type": "stream",
          "name": "stdout",
          "text": [
            "[1 2 3 4 5]\n"
          ]
        }
      ]
    },
    {
      "cell_type": "markdown",
      "source": [
        "numpy como np.\n",
        "numpy gerenalmente se importa bajo el alias np. en python los alias son un nombre alternativo para referirce a la misma cosa."
      ],
      "metadata": {
        "id": "0o0kEARAmKbC"
      }
    },
    {
      "cell_type": "code",
      "source": [
        "import numpy as np\n",
        "\n",
        "arreglo = np.array([6,7,8,9,10])\n",
        "print(arreglo)"
      ],
      "metadata": {
        "colab": {
          "base_uri": "https://localhost:8080/"
        },
        "id": "wac7yvf5mkLc",
        "outputId": "be33ae58-7fc5-4027-d8ad-5b1e6d2b407a"
      },
      "execution_count": 2,
      "outputs": [
        {
          "output_type": "stream",
          "name": "stdout",
          "text": [
            "[ 6  7  8  9 10]\n"
          ]
        }
      ]
    },
    {
      "cell_type": "markdown",
      "source": [
        "comprobando la version de numpy. la cadena de la vercion se almacena en el atributo _version_"
      ],
      "metadata": {
        "id": "gBNM_Wm4nKVN"
      }
    },
    {
      "cell_type": "code",
      "source": [
        "import numpy as np\n",
        "\n",
        "print(np.__version__)"
      ],
      "metadata": {
        "colab": {
          "base_uri": "https://localhost:8080/"
        },
        "id": "8iwFOcw7n0PH",
        "outputId": "8a42a560-6f3f-47c2-b399-b1f1c440b2ad"
      },
      "execution_count": 3,
      "outputs": [
        {
          "output_type": "stream",
          "name": "stdout",
          "text": [
            "2.0.2\n"
          ]
        }
      ]
    },
    {
      "cell_type": "markdown",
      "source": [
        "numpy creando matrices. crear un objeto de numpy. numpy se utiliza para trabajar con matrices. el objeto de matriz se llama ndarray. podemos crear un numpy ndarray utilizando la funcion array()"
      ],
      "metadata": {
        "id": "D25ohx01of8g"
      }
    },
    {
      "cell_type": "code",
      "source": [
        "import numpy as np\n",
        "\n",
        "arreglo=np.array([\"evelyn\", \"raul\", \"yazmin\"])\n",
        "print(arreglo)\n",
        "print(type(arreglo))"
      ],
      "metadata": {
        "colab": {
          "base_uri": "https://localhost:8080/"
        },
        "id": "RgJliYzNo7G0",
        "outputId": "e0357208-fcdd-4362-cd56-1999a658d4c9"
      },
      "execution_count": 4,
      "outputs": [
        {
          "output_type": "stream",
          "name": "stdout",
          "text": [
            "['evelyn' 'raul' 'yazmin']\n",
            "<class 'numpy.ndarray'>\n"
          ]
        }
      ]
    },
    {
      "cell_type": "markdown",
      "source": [
        "dimensiones en matrices. una dimension en matrices es un nivel de profundidad de matriz (matrices anidadas) una matriz anidada contiene matrices como elemto. matrices 0-D. son elementos de una matriz. cada valor de una matriz es una matriz de 0-D. ejemplo: crea una matriz 0-D con valor de 42."
      ],
      "metadata": {
        "id": "mUUAFYguqHK7"
      }
    },
    {
      "cell_type": "code",
      "source": [
        "import numpy as np\n",
        "\n",
        "arreglo=np.array(42)\n",
        "print(arreglo)\n"
      ],
      "metadata": {
        "colab": {
          "base_uri": "https://localhost:8080/"
        },
        "id": "422Qz5R7rIvE",
        "outputId": "22fd19c9-8b7d-4831-fd5f-d9e05b8276ec"
      },
      "execution_count": 5,
      "outputs": [
        {
          "output_type": "stream",
          "name": "stdout",
          "text": [
            "42\n"
          ]
        }
      ]
    },
    {
      "cell_type": "markdown",
      "source": [
        "matrices 1-D una matriz que tiene matrices 0-D como elementos se denomina matriz unidemensional o 1-D. estas son las matrices mas comunes y basicas. ejemplo:crea una matriz de 1-D que tenga los valores 1,2,3,4,5"
      ],
      "metadata": {
        "id": "WThM7p0SsUBN"
      }
    },
    {
      "cell_type": "code",
      "source": [
        "import numpy as np\n",
        "\n",
        "arreglo=np.array([1,2,3,4,5])\n",
        "\n",
        "print(arreglo)\n"
      ],
      "metadata": {
        "colab": {
          "base_uri": "https://localhost:8080/"
        },
        "id": "2KH89cQstMiM",
        "outputId": "f4359cd1-9c81-4876-9465-6a39d0beff7e"
      },
      "execution_count": 6,
      "outputs": [
        {
          "output_type": "stream",
          "name": "stdout",
          "text": [
            "[1 2 3 4 5]\n"
          ]
        }
      ]
    },
    {
      "cell_type": "markdown",
      "source": [
        "matrices de 2D. una matriz que tiene matrices 1-D como elementos se denomina matriz 2-D. a menudo se utilizan parz representar matrices de segundo orden. numpy tiene un submodulo completo dedicado a operaciones con matrices llamado numpy.mat. ejemplo:crea una matriz de 2D que contenga dos matrices con los valores 123 y 456."
      ],
      "metadata": {
        "id": "p5GVe7j3tzbk"
      }
    },
    {
      "cell_type": "code",
      "source": [
        "import numpy as np\n",
        "\n",
        "arreglo=np.array([[1,2,3],[4,5,6]])\n",
        "\n",
        "print(arreglo)"
      ],
      "metadata": {
        "colab": {
          "base_uri": "https://localhost:8080/"
        },
        "id": "BIG_Zq3cuqAk",
        "outputId": "f4988891-886e-4dd2-e526-493c4283c50e"
      },
      "execution_count": 7,
      "outputs": [
        {
          "output_type": "stream",
          "name": "stdout",
          "text": [
            "[[1 2 3]\n",
            " [4 5 6]]\n"
          ]
        }
      ]
    },
    {
      "cell_type": "markdown",
      "source": [
        "matrices 3D. una matriz que tiene matrices 2D se denomina matriz 3D. estas matrices se utilizan para representar una matriz de tercer orden. ejemplo:crea una matriz 3D con dos matrices bidimensionales, ambas conteniendo dos matrices con los valores 1,2,3 y 4,5,6."
      ],
      "metadata": {
        "id": "Trhe3V1fvbE8"
      }
    },
    {
      "cell_type": "code",
      "source": [
        "import numpy as np\n",
        "arreglo=np.array([[[1,2,3], [4,5,6]],[[1,2,3], [4,5,6]]])\n",
        "print(arreglo)\n"
      ],
      "metadata": {
        "colab": {
          "base_uri": "https://localhost:8080/"
        },
        "id": "1uZdKEe9wKax",
        "outputId": "8d1ae207-618b-4855-db2f-e75b1c6f7c73"
      },
      "execution_count": 9,
      "outputs": [
        {
          "output_type": "stream",
          "name": "stdout",
          "text": [
            "[[[1 2 3]\n",
            "  [4 5 6]]\n",
            "\n",
            " [[1 2 3]\n",
            "  [4 5 6]]]\n"
          ]
        }
      ]
    }
  ]
}