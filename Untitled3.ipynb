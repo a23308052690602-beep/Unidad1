{
  "nbformat": 4,
  "nbformat_minor": 0,
  "metadata": {
    "colab": {
      "provenance": [],
      "authorship_tag": "ABX9TyPc1QDmYdL2sBB47+x5Zgxa",
      "include_colab_link": true
    },
    "kernelspec": {
      "name": "python3",
      "display_name": "Python 3"
    },
    "language_info": {
      "name": "python"
    }
  },
  "cells": [
    {
      "cell_type": "markdown",
      "metadata": {
        "id": "view-in-github",
        "colab_type": "text"
      },
      "source": [
        "<a href=\"https://colab.research.google.com/github/a23308052690602-beep/Unidad1/blob/main/Untitled3.ipynb\" target=\"_parent\"><img src=\"https://colab.research.google.com/assets/colab-badge.svg\" alt=\"Open In Colab\"/></a>"
      ]
    },
    {
      "cell_type": "markdown",
      "source": [
        "ana evelyn gonzalez velazquez- practica 7- 25 de septiembre 2025\n",
        "---\n",
        "slicing numpy\n",
        "---\n",
        "utilice STEP para determinar el paso del corte:\n",
        "\n",
        "ejemplo: ([1,2,3,4,5,6,7]) - devuelve todos los elementos del indice 1 al indice 5\n",
        "\n"
      ],
      "metadata": {
        "id": "59FgCN33G1Xc"
      }
    },
    {
      "cell_type": "code",
      "source": [
        "import numpy as np\n",
        "\n",
        "arreglo=np.array([1,2,3,4,5,6,7])\n",
        "print(arreglo[1:5:2])\n"
      ],
      "metadata": {
        "colab": {
          "base_uri": "https://localhost:8080/"
        },
        "id": "OqYTt7ttILYM",
        "outputId": "33adb4d9-735a-4a38-b1c3-fc305536372d"
      },
      "execution_count": 1,
      "outputs": [
        {
          "output_type": "stream",
          "name": "stdout",
          "text": [
            "[2 4]\n"
          ]
        }
      ]
    },
    {
      "cell_type": "markdown",
      "source": [
        "ejemplo 2:([1,2,3,4,5,6,7]) devuelve los elementos de la matriz"
      ],
      "metadata": {
        "id": "Ella625qIwe8"
      }
    },
    {
      "cell_type": "code",
      "source": [
        "import numpy as np\n",
        "arreglo=np.array([1,2,3,4,5,6,7])\n",
        "print(arreglo[::2])"
      ],
      "metadata": {
        "colab": {
          "base_uri": "https://localhost:8080/"
        },
        "id": "cvCsZCEWJDhG",
        "outputId": "1b089eed-c04c-490e-b034-5004427bbd61"
      },
      "execution_count": 2,
      "outputs": [
        {
          "output_type": "stream",
          "name": "stdout",
          "text": [
            "[1 3 5 7]\n"
          ]
        }
      ]
    },
    {
      "cell_type": "markdown",
      "source": [
        "slice de matrices es 2D\n",
        "---\n",
        "ejemplo: ([[1,2,3,4,5], [6,7,8,9,10]])\n",
        "del segundo elemento, corte del indice 1 al indice 4"
      ],
      "metadata": {
        "id": "vmT0mgN7JwxH"
      }
    },
    {
      "cell_type": "code",
      "source": [
        "import numpy as np\n",
        "arreglo=np.array([[1,2,3,4,5],[6,7,8,9,10]])\n",
        "print(arreglo[1,1:4])"
      ],
      "metadata": {
        "colab": {
          "base_uri": "https://localhost:8080/"
        },
        "id": "UQCaZXi2Liuf",
        "outputId": "8967669c-d502-47dd-a4c0-f63dc40d6ff2"
      },
      "execution_count": 3,
      "outputs": [
        {
          "output_type": "stream",
          "name": "stdout",
          "text": [
            "[7 8 9]\n"
          ]
        }
      ]
    },
    {
      "cell_type": "markdown",
      "source": [
        "ejemplo 4: ([[1,2,3,4,5], [6,7,8,9,10]])\n",
        " de ambos elementos, devuelve el indice 2"
      ],
      "metadata": {
        "id": "zkxdesiWNGIB"
      }
    },
    {
      "cell_type": "code",
      "source": [
        "import numpy as np\n",
        "arreglo=np.array([[1,2,3,4,5],[6,7,8,9,10]])\n",
        "print(arreglo[0:2,2])"
      ],
      "metadata": {
        "colab": {
          "base_uri": "https://localhost:8080/"
        },
        "id": "jvC29T8LNsMA",
        "outputId": "aebb2867-da98-49e8-8a02-1aa6e0e6a5af"
      },
      "execution_count": 4,
      "outputs": [
        {
          "output_type": "stream",
          "name": "stdout",
          "text": [
            "[3 8]\n"
          ]
        }
      ]
    },
    {
      "cell_type": "markdown",
      "source": [
        "ejemplo 5: ([[1,2,3,4,5],[6,7,8,9,10]])\n",
        "\n",
        "de ambos elementos, cortar el indice 1 al indice 4"
      ],
      "metadata": {
        "id": "MpSzEWV1OPKg"
      }
    },
    {
      "cell_type": "code",
      "source": [
        "import numpy as np\n",
        "arreglo=np.array([[1,2,3,4,5],[6,7,8,9,10]])\n",
        "print(arreglo[0:2, 1:4])"
      ],
      "metadata": {
        "colab": {
          "base_uri": "https://localhost:8080/"
        },
        "id": "nlVMUsqDOfCA",
        "outputId": "e2a75d92-891e-4993-93b4-8a7264f20000"
      },
      "execution_count": 9,
      "outputs": [
        {
          "output_type": "stream",
          "name": "stdout",
          "text": [
            "[[2 3 4]\n",
            " [7 8 9]]\n"
          ]
        }
      ]
    },
    {
      "cell_type": "markdown",
      "source": [
        "ejercicio 1-autonomo\n",
        "del siguiente arreglo, ¿cual es el resultaddo?\n",
        "([1,2,3,4,5,6,7])\n",
        "\n",
        "corta del 1er elemento al 6to edemento con paso 2"
      ],
      "metadata": {
        "id": "0mXo3JauPfDC"
      }
    },
    {
      "cell_type": "code",
      "source": [
        "import numpy as np\n",
        "arreglo=np.array([1,2,3,4,5,6,7])\n",
        "print(arreglo[0:6:2])\n",
        "#"
      ],
      "metadata": {
        "colab": {
          "base_uri": "https://localhost:8080/"
        },
        "id": "ZFrIUPbPP2CL",
        "outputId": "dd493830-2707-406d-9bdb-888bf9f04819"
      },
      "execution_count": 14,
      "outputs": [
        {
          "output_type": "stream",
          "name": "stdout",
          "text": [
            "[1 3 5]\n"
          ]
        }
      ]
    }
  ]
}