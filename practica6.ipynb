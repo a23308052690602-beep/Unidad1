{
  "nbformat": 4,
  "nbformat_minor": 0,
  "metadata": {
    "colab": {
      "provenance": [],
      "toc_visible": true,
      "authorship_tag": "ABX9TyPqNORb1peSjsUrIO/40u8t",
      "include_colab_link": true
    },
    "kernelspec": {
      "name": "python3",
      "display_name": "Python 3"
    },
    "language_info": {
      "name": "python"
    }
  },
  "cells": [
    {
      "cell_type": "markdown",
      "metadata": {
        "id": "view-in-github",
        "colab_type": "text"
      },
      "source": [
        "<a href=\"https://colab.research.google.com/github/a23308052690602-beep/Unidad1/blob/main/practica6.ipynb\" target=\"_parent\"><img src=\"https://colab.research.google.com/assets/colab-badge.svg\" alt=\"Open In Colab\"/></a>"
      ]
    },
    {
      "cell_type": "markdown",
      "source": [
        "ana evelyn gonzalez velazquez- 24 de septiembre de 2025.\n",
        "practica 6- cortar arregos numpy  \n",
        "---\n",
        "slice en python significa tomar elementos de un indice determinado a corto\n",
        "determinado indice.\n",
        "---\n",
        "pasamos slice en lugar del indice de esta manera:[star:end]\n",
        "sino pasamos el inicio se concidera un 0\n",
        "sino pasamos el final, su longitud es conciderada una matriz de una dimension\n",
        "---\n",
        "ejemplo: ([1,2,3,4,5,6,7])\n",
        "cortar los elementos del indice 1 al indice 5\n",
        "---\n",
        "\n"
      ],
      "metadata": {
        "id": "vYTxA-4PCllv"
      }
    },
    {
      "cell_type": "code",
      "source": [
        "import numpy as np\n",
        "arrego=np.array([1,2,3,4,5,6,7])\n",
        "print(arrego[1:5])"
      ],
      "metadata": {
        "colab": {
          "base_uri": "https://localhost:8080/"
        },
        "id": "Q7zPNSrtKe4T",
        "outputId": "06c80d65-8669-4937-9a76-d603e2b07996"
      },
      "execution_count": 1,
      "outputs": [
        {
          "output_type": "stream",
          "name": "stdout",
          "text": [
            "[2 3 4 5]\n"
          ]
        }
      ]
    },
    {
      "cell_type": "markdown",
      "source": [
        "ejemplo 2:\n",
        "([1,2,3,4,5,6,7])\n",
        "cortar del indice 4 hasta el final de la matriz\n",
        "\n",
        "---\n",
        "\n"
      ],
      "metadata": {
        "id": "UsvlFK50LLL1"
      }
    },
    {
      "cell_type": "code",
      "source": [
        "import numpy as np\n",
        "arrego=np.array([1,2,3,4,5,6,7])\n",
        "print(arrego[4:])"
      ],
      "metadata": {
        "colab": {
          "base_uri": "https://localhost:8080/"
        },
        "id": "I7ml4DAtLdDV",
        "outputId": "4db26215-3725-4600-ecf6-b9a507fd90ab"
      },
      "execution_count": 2,
      "outputs": [
        {
          "output_type": "stream",
          "name": "stdout",
          "text": [
            "[5 6 7]\n"
          ]
        }
      ]
    },
    {
      "cell_type": "markdown",
      "source": [
        "ejemplo 3:\n",
        "([1,2,3,4,5,6,7])\n",
        "cortar elementos desde el principio hasta el indice 5"
      ],
      "metadata": {
        "id": "MkzbbeOoMIFN"
      }
    },
    {
      "cell_type": "code",
      "source": [
        "import numpy as np\n",
        "arrego=np.array([1,2,3,4,5,6,7])\n",
        "print(arrego[:5])"
      ],
      "metadata": {
        "colab": {
          "base_uri": "https://localhost:8080/"
        },
        "id": "OmR2U6PuMWe9",
        "outputId": "63127536-59fa-4fa1-ed1e-0dfade32f39a"
      },
      "execution_count": 3,
      "outputs": [
        {
          "output_type": "stream",
          "name": "stdout",
          "text": [
            "[1 2 3 4 5]\n"
          ]
        }
      ]
    },
    {
      "cell_type": "markdown",
      "source": [
        "ejemplo 4:\n",
        "([1,2,3,4,5,6,7])\n",
        "corte negativo. utilizamos el operador \"menos\" para hacer referencia a un indice desde el final.\n",
        "---\n",
        "cortar del indice 3 desde el final al indice 1 desde el final\n"
      ],
      "metadata": {
        "id": "CL8rP2lSM2UE"
      }
    },
    {
      "cell_type": "code",
      "source": [
        "import numpy as np\n",
        "arrego=np.array([1,2,3,4,5,6,7])\n",
        "print(arrego[-3:-1])\n",
        "#"
      ],
      "metadata": {
        "colab": {
          "base_uri": "https://localhost:8080/"
        },
        "id": "ZJ9e_XZYNcvt",
        "outputId": "c904473b-0206-4311-ce1f-3b6856d65bed"
      },
      "execution_count": 4,
      "outputs": [
        {
          "output_type": "stream",
          "name": "stdout",
          "text": [
            "[5 6]\n"
          ]
        }
      ]
    }
  ]
}