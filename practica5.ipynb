{
  "nbformat": 4,
  "nbformat_minor": 0,
  "metadata": {
    "colab": {
      "provenance": [],
      "authorship_tag": "ABX9TyM3eD6fPLqqM0/sSVVXx39E",
      "include_colab_link": true
    },
    "kernelspec": {
      "name": "python3",
      "display_name": "Python 3"
    },
    "language_info": {
      "name": "python"
    }
  },
  "cells": [
    {
      "cell_type": "markdown",
      "metadata": {
        "id": "view-in-github",
        "colab_type": "text"
      },
      "source": [
        "<a href=\"https://colab.research.google.com/github/a23308052690602-beep/Unidad1/blob/main/practica5.ipynb\" target=\"_parent\"><img src=\"https://colab.research.google.com/assets/colab-badge.svg\" alt=\"Open In Colab\"/></a>"
      ]
    },
    {
      "cell_type": "markdown",
      "source": [
        "cual es el resultado?"
      ],
      "metadata": {
        "id": "hulcpxOggy6i"
      }
    },
    {
      "cell_type": "code",
      "source": [
        "import numpy as np\n",
        "arreglo=np.array([[[1,2], [3,4]], [[5,6], [7,8]]])\n",
        "print(arreglo[1,1,0])"
      ],
      "metadata": {
        "colab": {
          "base_uri": "https://localhost:8080/"
        },
        "id": "Vn8tAkxXg635",
        "outputId": "b496a500-950d-4ff0-e676-e3bad21bd7c8"
      },
      "execution_count": 4,
      "outputs": [
        {
          "output_type": "stream",
          "name": "stdout",
          "text": [
            "7\n"
          ]
        }
      ]
    },
    {
      "cell_type": "markdown",
      "source": [
        "imprime el elemento"
      ],
      "metadata": {
        "id": "ChGbvfl0iFt9"
      }
    },
    {
      "cell_type": "code",
      "source": [
        "import numpy as np\n",
        "array=np.array([1,2,3,4,5])\n",
        "print(array[0])"
      ],
      "metadata": {
        "colab": {
          "base_uri": "https://localhost:8080/"
        },
        "id": "cUkE9Te8iKu1",
        "outputId": "0e7f1c1d-de0e-4cf1-9af8-98662e74c439"
      },
      "execution_count": 5,
      "outputs": [
        {
          "output_type": "stream",
          "name": "stdout",
          "text": [
            "1\n"
          ]
        }
      ]
    },
    {
      "cell_type": "markdown",
      "source": [
        "imprime el numero 50"
      ],
      "metadata": {
        "id": "Ca1Q2iy5iVZN"
      }
    },
    {
      "cell_type": "code",
      "source": [
        "import numpy as np\n",
        "array=np.array([10,20,30,40,50])\n",
        "print(array[4])"
      ],
      "metadata": {
        "colab": {
          "base_uri": "https://localhost:8080/"
        },
        "id": "0DGmaZGiiY5n",
        "outputId": "7d55eb0c-8415-400d-e6b8-a95b762bb424"
      },
      "execution_count": 6,
      "outputs": [
        {
          "output_type": "stream",
          "name": "stdout",
          "text": [
            "50\n"
          ]
        }
      ]
    },
    {
      "cell_type": "markdown",
      "source": [
        "imprime el numero 50"
      ],
      "metadata": {
        "id": "7932USrVisnw"
      }
    }
  ]
}