{
  "nbformat": 4,
  "nbformat_minor": 0,
  "metadata": {
    "colab": {
      "provenance": [],
      "authorship_tag": "ABX9TyMy8HlLMjODWU9k6De3CwLM",
      "include_colab_link": true
    },
    "kernelspec": {
      "name": "python3",
      "display_name": "Python 3"
    },
    "language_info": {
      "name": "python"
    }
  },
  "cells": [
    {
      "cell_type": "markdown",
      "metadata": {
        "id": "view-in-github",
        "colab_type": "text"
      },
      "source": [
        "<a href=\"https://colab.research.google.com/github/a23308052690602-beep/Unidad1/blob/main/Untitled1.ipynb\" target=\"_parent\"><img src=\"https://colab.research.google.com/assets/colab-badge.svg\" alt=\"Open In Colab\"/></a>"
      ]
    },
    {
      "cell_type": "markdown",
      "source": [
        "Numpy indexacion de matrices. acceder a elementod de una matriz. la indexacion de matrices es lo mismo que acceder a un elemento de una matriz. puede acceder a un elemento de una matriz haciendo referencia a su numero de indice.\n",
        "los indices en las matrices numpy comienza en cero, lo que significa que el primer elemento tiene indice cero, el segundo tiene incice uno, y el tercero tiene el indice dos, etc.\n",
        "\n",
        "ejemplo:obtenga el primer elemento de la siguiente matriz."
      ],
      "metadata": {
        "id": "SJTNLb1zDcDj"
      }
    },
    {
      "cell_type": "code",
      "source": [
        "import numpy as np\n",
        "arreglo= np.array([1,2,3,4,5])\n",
        "print(arreglo[0])"
      ],
      "metadata": {
        "colab": {
          "base_uri": "https://localhost:8080/"
        },
        "id": "heKw1mmdFUhS",
        "outputId": "0dc47073-d4a2-4f04-e748-8ab4d9e39660"
      },
      "execution_count": 2,
      "outputs": [
        {
          "output_type": "stream",
          "name": "stdout",
          "text": [
            "1\n"
          ]
        }
      ]
    },
    {
      "cell_type": "markdown",
      "source": [
        "De la siguiente lista.\n",
        "6,7,8,9,10, obtenga el tercer y cuarto elemento."
      ],
      "metadata": {
        "id": "-G-EaVqDF4DL"
      }
    },
    {
      "cell_type": "code",
      "source": [
        "import numpy as np\n",
        "arreglo=np.array([6,7,8,9,10])\n",
        "print(arreglo[2])\n",
        "print(arreglo[3])"
      ],
      "metadata": {
        "colab": {
          "base_uri": "https://localhost:8080/"
        },
        "id": "8Pu9LlfVGKfS",
        "outputId": "e928957b-8aa7-429f-ee82-1e24a958d37e"
      },
      "execution_count": 3,
      "outputs": [
        {
          "output_type": "stream",
          "name": "stdout",
          "text": [
            "8\n",
            "9\n"
          ]
        }
      ]
    },
    {
      "cell_type": "markdown",
      "source": [
        "Acceder a matrices dos D, para acceder a elementod de matrices de dos D podemos utilizar numeros enteros separados por comas que representan al numero de Dimensiones y al indice del elemento.\n",
        "-------------------------\n",
        "ejemplo: Realiza una matriz 2D con las siguientes las lista1. 1,2,3,4,5\n",
        "lista2. 6,7,8,9,10\n",
        "----------------------------\n",
        "De la matriz dos D. accede al elemento de la primera fila seguda columna."
      ],
      "metadata": {
        "id": "VbtRo5kjGeNL"
      }
    },
    {
      "cell_type": "code",
      "source": [
        "import numpy as np\n",
        "arreglo= np.array([[1,2,3,4,5], [6,7,8,9,10]])\n",
        "print(arreglo[0,1])\n"
      ],
      "metadata": {
        "colab": {
          "base_uri": "https://localhost:8080/"
        },
        "id": "CwGQ7zABH-ED",
        "outputId": "6ea61802-8da2-4668-897a-424d02a8de40"
      },
      "execution_count": 5,
      "outputs": [
        {
          "output_type": "stream",
          "name": "stdout",
          "text": [
            "2\n"
          ]
        }
      ]
    },
    {
      "cell_type": "code",
      "source": [
        "import numpy as np\n",
        "arreglo= np.array([[1,2,3,4,5],[6,7,8,9,10]])\n",
        "print(arreglo[1,4])"
      ],
      "metadata": {
        "colab": {
          "base_uri": "https://localhost:8080/"
        },
        "id": "HL69f20sJDwk",
        "outputId": "b9daf207-2248-4835-c4c0-552ec765eaae"
      },
      "execution_count": 7,
      "outputs": [
        {
          "output_type": "stream",
          "name": "stdout",
          "text": [
            "10\n"
          ]
        }
      ]
    },
    {
      "cell_type": "code",
      "source": [
        "import numpy as np\n",
        "arreglo=np.array([[[1,2,3,],[4,5,6],[7,8,9],[10,11,12]]])\n",
        "print(arreglo[0,1,2])"
      ],
      "metadata": {
        "colab": {
          "base_uri": "https://localhost:8080/"
        },
        "id": "DS_RQH5NJ_08",
        "outputId": "41ef8d60-01fa-4fe6-bf8d-f8a9cd0ef6be"
      },
      "execution_count": 9,
      "outputs": [
        {
          "output_type": "stream",
          "name": "stdout",
          "text": [
            "6\n"
          ]
        }
      ]
    }
  ]
}