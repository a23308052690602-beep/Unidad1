{
  "nbformat": 4,
  "nbformat_minor": 0,
  "metadata": {
    "colab": {
      "provenance": [],
      "authorship_tag": "ABX9TyNYkfHH4bN6ysXI6sSi6mrN",
      "include_colab_link": true
    },
    "kernelspec": {
      "name": "python3",
      "display_name": "Python 3"
    },
    "language_info": {
      "name": "python"
    }
  },
  "cells": [
    {
      "cell_type": "markdown",
      "metadata": {
        "id": "view-in-github",
        "colab_type": "text"
      },
      "source": [
        "<a href=\"https://colab.research.google.com/github/a23308052690602-beep/Unidad1/blob/main/ptactica5.ipynb\" target=\"_parent\"><img src=\"https://colab.research.google.com/assets/colab-badge.svg\" alt=\"Open In Colab\"/></a>"
      ]
    },
    {
      "cell_type": "code",
      "execution_count": 10,
      "metadata": {
        "colab": {
          "base_uri": "https://localhost:8080/"
        },
        "id": "VDRCb0F902X0",
        "outputId": "1cb763a3-e067-401e-b595-c797b9db5685"
      },
      "outputs": [
        {
          "output_type": "stream",
          "name": "stdout",
          "text": [
            "la media es: 39.125\n",
            "la mediana es: 39.5\n",
            "la moda es: 12\n"
          ]
        }
      ],
      "source": [
        "import numpy as np\n",
        "from scipy import stats\n",
        "\n",
        "valores= np.array([23,45, 56,12,67,34,55,21])\n",
        "media=np.mean(valores)\n",
        "mediana=np.median(valores)\n",
        "moda=stats.mode(valores)\n",
        "print(\"la media es:\", media)\n",
        "print(\"la mediana es:\", mediana)\n",
        "print(\"la moda es:\", moda.mode)"
      ]
    },
    {
      "cell_type": "code",
      "source": [
        "import numpy as np\n",
        "from scipy import stats\n",
        "\n",
        "valores= np.array([10,20,30,40,20,50,20])\n",
        "media=np.mean(valores)\n",
        "mediana=np.median(valores)\n",
        "moda=stats.mode(valores)\n",
        "print(\"la media es:\", media)\n",
        "print(\"la mediana es:\", mediana)\n",
        "print(\"la moda es:\", moda.mode)"
      ],
      "metadata": {
        "colab": {
          "base_uri": "https://localhost:8080/"
        },
        "id": "A4rgwVr24uoC",
        "outputId": "c7ebd071-58d2-4619-895d-8aeff8f743c3"
      },
      "execution_count": 11,
      "outputs": [
        {
          "output_type": "stream",
          "name": "stdout",
          "text": [
            "la media es: 27.142857142857142\n",
            "la mediana es: 20.0\n",
            "la moda es: 20\n"
          ]
        }
      ]
    },
    {
      "cell_type": "code",
      "source": [
        "import numpy as np\n",
        "from scipy import stats\n",
        "\n",
        "valores= np.array([10,20,30,40,50])\n",
        "media=np.mean(valores)\n",
        "mediana=np.median(valores)\n",
        "moda=stats.mode(valores)\n",
        "print(\"la media es:\", media)\n",
        "print(\"la mediana es:\", mediana)\n",
        "print(\"la moda es:\", moda.mode)"
      ],
      "metadata": {
        "colab": {
          "base_uri": "https://localhost:8080/"
        },
        "id": "UIG72dmQ64vk",
        "outputId": "8952ba20-b70b-4cf0-f480-e3a332df2109"
      },
      "execution_count": 12,
      "outputs": [
        {
          "output_type": "stream",
          "name": "stdout",
          "text": [
            "la media es: 30.0\n",
            "la mediana es: 30.0\n",
            "la moda es: 10\n"
          ]
        }
      ]
    }
  ]
}