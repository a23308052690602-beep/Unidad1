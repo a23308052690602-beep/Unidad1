{
  "nbformat": 4,
  "nbformat_minor": 0,
  "metadata": {
    "colab": {
      "provenance": [],
      "authorship_tag": "ABX9TyMGSdy138my5Haq88k5qPHB",
      "include_colab_link": true
    },
    "kernelspec": {
      "name": "python3",
      "display_name": "Python 3"
    },
    "language_info": {
      "name": "python"
    }
  },
  "cells": [
    {
      "cell_type": "markdown",
      "metadata": {
        "id": "view-in-github",
        "colab_type": "text"
      },
      "source": [
        "<a href=\"https://colab.research.google.com/github/a23308052690602-beep/Unidad1/blob/main/ejemplo.ipynb\" target=\"_parent\"><img src=\"https://colab.research.google.com/assets/colab-badge.svg\" alt=\"Open In Colab\"/></a>"
      ]
    },
    {
      "cell_type": "code",
      "execution_count": null,
      "metadata": {
        "id": "EUuKKUQowbTv"
      },
      "outputs": [],
      "source": []
    },
    {
      "cell_type": "markdown",
      "source": [
        "prueba de colab python\n"
      ],
      "metadata": {
        "id": "6MSnQJv0xeON"
      }
    },
    {
      "cell_type": "code",
      "source": [
        "print(\"hola mundo\")"
      ],
      "metadata": {
        "colab": {
          "base_uri": "https://localhost:8080/"
        },
        "id": "FFzJxPIVxxYT",
        "outputId": "71e35d2b-03bc-4a34-ce66-d51dd86583da"
      },
      "execution_count": 1,
      "outputs": [
        {
          "output_type": "stream",
          "name": "stdout",
          "text": [
            "hola mundo\n"
          ]
        }
      ]
    },
    {
      "cell_type": "markdown",
      "source": [
        "variables"
      ],
      "metadata": {
        "id": "jH_fJVwjyR00"
      }
    },
    {
      "cell_type": "code",
      "source": [
        "#variables en python\n",
        "nombre=\"evelyn\"\n",
        "paterno=\"gonzalez\"\n",
        "materno=\"velazquez\"\n",
        "edad=17\n",
        "estatura=1.63\n",
        "\n",
        "print(nombre, paterno, materno,edad, estatura)"
      ],
      "metadata": {
        "colab": {
          "base_uri": "https://localhost:8080/"
        },
        "id": "YzYsK5N8yVje",
        "outputId": "1a103515-a053-4596-d6f1-44639018ab75"
      },
      "execution_count": 2,
      "outputs": [
        {
          "output_type": "stream",
          "name": "stdout",
          "text": [
            "evelyn gonzalez velazquez 17 1.63\n"
          ]
        }
      ]
    },
    {
      "cell_type": "markdown",
      "source": [
        "\n",
        "solicita 2 numeros al usuario y sumarlos\n",
        "---\n",
        "\n"
      ],
      "metadata": {
        "id": "veWHxmgNznr8"
      }
    },
    {
      "cell_type": "code",
      "source": [
        "numero1= int(input(\"ingresa el primer numero\"))\n",
        "numero2= int(input(\"ingresa el segundo numero\"))\n",
        "suma=numero1+numero2\n",
        "print(\"suma=\", suma)\n"
      ],
      "metadata": {
        "colab": {
          "base_uri": "https://localhost:8080/"
        },
        "id": "JiJsr0dxzxrH",
        "outputId": "601656e7-dc0d-4ba7-ab71-bf0f00537ae8"
      },
      "execution_count": 4,
      "outputs": [
        {
          "output_type": "stream",
          "name": "stdout",
          "text": [
            "ingresa el primer numero12\n",
            "ingresa el segundo numero3\n",
            "suma= 15\n"
          ]
        }
      ]
    },
    {
      "cell_type": "markdown",
      "source": [
        "\n",
        "\n",
        "---\n",
        "\n"
      ],
      "metadata": {
        "id": "gK_OiHj4zgOG"
      }
    }
  ]
}